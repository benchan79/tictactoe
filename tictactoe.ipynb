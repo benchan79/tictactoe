{
 "cells": [
  {
   "cell_type": "markdown",
   "id": "e93ca8f9",
   "metadata": {
    "toc": true
   },
   "source": [
    "<h1>Table of Contents<span class=\"tocSkip\"></span></h1>\n",
    "<div class=\"toc\"><ul class=\"toc-item\"><li><span><a href=\"#Getting-Started\" data-toc-modified-id=\"Getting-Started-1\"><span class=\"toc-item-num\">1&nbsp;&nbsp;</span>Getting Started</a></span></li><li><span><a href=\"#Understanding\" data-toc-modified-id=\"Understanding-2\"><span class=\"toc-item-num\">2&nbsp;&nbsp;</span>Understanding</a></span></li><li><span><a href=\"#Specification\" data-toc-modified-id=\"Specification-3\"><span class=\"toc-item-num\">3&nbsp;&nbsp;</span>Specification</a></span></li><li><span><a href=\"#Hints\" data-toc-modified-id=\"Hints-4\"><span class=\"toc-item-num\">4&nbsp;&nbsp;</span>Hints</a></span></li><li><span><a href=\"#How-to-Submit\" data-toc-modified-id=\"How-to-Submit-5\"><span class=\"toc-item-num\">5&nbsp;&nbsp;</span>How to Submit</a></span></li></ul></div>"
   ]
  },
  {
   "cell_type": "markdown",
   "id": "a30a75c3",
   "metadata": {},
   "source": [
    "# Getting Started\n",
    "- Download the distribution code from https://cdn.cs50.net/ai/2020/x/projects/0/tictactoe.zip and unzip it.\n",
    "- Once in the directory for the project, run `pip3 install -r requirements.txt` to install the required Python package (`pygame`) for this project."
   ]
  },
  {
   "cell_type": "markdown",
   "id": "868ceaed",
   "metadata": {},
   "source": [
    "# Understanding\n",
    "There are two main files in this project: `runner.py` and `tictactoe.py`. `tictactoe.py` contains all of the logic for playing the game, and for making optimal moves. `runner.py` has been implemented for you, and contains all of the code to run the graphical interface for the game. Once you’ve completed all the required functions in `tictactoe.py`, you should be able to run `python runner.py` to play against your AI!\n",
    "\n",
    "Let’s open up `tictactoe.py` to get an understanding for what’s provided. First, we define three variables: `X`, `O`, and `EMPTY`, to represent possible moves of the board.\n",
    "\n",
    "The function `initial_state` returns the starting state of the board. For this problem, we’ve chosen to represent the board as a list of three lists (representing the three rows of the board), where each internal list contains three values that are either `X`, `O`, or `EMPTY`. What follows are functions that we’ve left up to you to implement!"
   ]
  },
  {
   "cell_type": "markdown",
   "id": "26a713ff",
   "metadata": {},
   "source": [
    "# Specification\n",
    "Complete the implementations of `player`, `actions`, `result`, `winner`, `terminal`, `utility`, and `minimax`."
   ]
  },
  {
   "cell_type": "code",
   "execution_count": 108,
   "id": "80581b36",
   "metadata": {},
   "outputs": [],
   "source": [
    "\"\"\"\n",
    "Tic Tac Toe Player\n",
    "\"\"\"\n",
    "\n",
    "import math\n",
    "from copy import deepcopy"
   ]
  },
  {
   "cell_type": "code",
   "execution_count": 109,
   "id": "e1c33945",
   "metadata": {},
   "outputs": [],
   "source": [
    "X = \"X\"\n",
    "O = \"O\"\n",
    "EMPTY = None"
   ]
  },
  {
   "cell_type": "code",
   "execution_count": 110,
   "id": "07a4c527",
   "metadata": {},
   "outputs": [],
   "source": [
    "def initial_state():\n",
    "    \"\"\"\n",
    "    Returns starting state of the board.\n",
    "    \"\"\"\n",
    "    return [[EMPTY, EMPTY, EMPTY],\n",
    "            [EMPTY, EMPTY, EMPTY],\n",
    "            [EMPTY, EMPTY, EMPTY]]"
   ]
  },
  {
   "cell_type": "markdown",
   "id": "3dcdc7e8",
   "metadata": {},
   "source": [
    "The `player` function should take a `board` state as input, and return which player’s turn it is (either `X` or `O`).\n",
    "- In the initial game state, `X` gets the first move. Subsequently, the player alternates with each additional move.\n",
    "- Any return value is acceptable if a terminal board is provided as input (i.e., the game is already over)."
   ]
  },
  {
   "cell_type": "code",
   "execution_count": 112,
   "id": "fa03af76",
   "metadata": {},
   "outputs": [],
   "source": [
    "# board = initial_state()\n",
    "# print(*board, sep=\"\\n\")\n",
    "# row_num = 0\n",
    "# for row in board:\n",
    "#     row_num += 1    \n",
    "#     print(f\"Number of EMPTY in Row{row_num}: {row.count(None)}\")\n",
    "# print()\n",
    "test_board1 = initial_state()\n",
    "\n",
    "test_board2 = [[\"X\", EMPTY, EMPTY],\n",
    "                [EMPTY, \"O\", EMPTY],\n",
    "                [\"X\", EMPTY, \"O\"]]\n",
    "\n",
    "test_board3 = [[\"X\", EMPTY, \"X\"],\n",
    "                [EMPTY, \"O\", EMPTY],\n",
    "                [\"X\", EMPTY, \"O\"]]\n",
    "\n",
    "# test_board = initial_state()\n",
    "# print(*test_board, sep=\"\\n\")\n",
    "# count_x = 0\n",
    "# count_o = 0\n",
    "# for row in test_board:\n",
    "#     print(row.count(\"X\"), row.count(\"O\"), row.count(None))\n",
    "#     count_x += row.count(\"X\")\n",
    "#     count_o += row.count(\"O\")\n",
    "# print()\n",
    "# print(count_x, count_o)\n",
    "# if count_x == count_o:\n",
    "#     player = \"player_x\"\n",
    "# else:\n",
    "#     player = \"player_o\"\n",
    "# print(player)"
   ]
  },
  {
   "cell_type": "code",
   "execution_count": 113,
   "id": "fe50e427",
   "metadata": {},
   "outputs": [],
   "source": [
    "def player(board):\n",
    "    \"\"\"\n",
    "    Returns player who has the next turn on a board.\n",
    "    \"\"\"\n",
    "    count_x = 0\n",
    "    count_o = 0\n",
    "    for row in board:\n",
    "        count_x += row.count(\"X\")\n",
    "        count_o += row.count(\"O\")\n",
    "    if count_x == count_o:\n",
    "        player = \"X\"\n",
    "    else:\n",
    "        player = \"O\"\n",
    "    return player\n",
    "    raise NotImplementedError"
   ]
  },
  {
   "cell_type": "code",
   "execution_count": 114,
   "id": "ef82adb7",
   "metadata": {},
   "outputs": [
    {
     "name": "stdout",
     "output_type": "stream",
     "text": [
      "X\n",
      "X\n",
      "O\n"
     ]
    }
   ],
   "source": [
    "print(player(test_board1))\n",
    "print(player(test_board2))\n",
    "print(player(test_board3))"
   ]
  },
  {
   "cell_type": "markdown",
   "id": "4cb583f0",
   "metadata": {},
   "source": [
    "The `actions` function should return a `set` of all of the possible actions that can be taken on a given board.\n",
    "- Each action should be represented as a tuple `(i, j)` where `i` corresponds to the row of the move (`0`, `1`, or `2`) and `j` corresponds to which cell in the row corresponds to the move (also `0`, `1`, or `2`).\n",
    "- Possible moves are any cells on the board that do not already have an `X` or an `O` in them.\n",
    "- Any return value is acceptable if a terminal board is provided as input."
   ]
  },
  {
   "cell_type": "code",
   "execution_count": 199,
   "id": "268be968",
   "metadata": {},
   "outputs": [],
   "source": [
    "# poss_moves = []\n",
    "# i = 0\n",
    "# for row in test_board3:\n",
    "#     j = 0\n",
    "#     for cell in row:\n",
    "#         if cell != \"X\" and cell != \"O\":\n",
    "#             poss_moves.append((i, j))\n",
    "#         j += 1\n",
    "#     i += 1\n",
    "# print(*test_board3, sep=\"\\n\")        \n",
    "# print(poss_moves)"
   ]
  },
  {
   "cell_type": "code",
   "execution_count": 115,
   "id": "8d5712b2",
   "metadata": {},
   "outputs": [],
   "source": [
    "def actions(board):\n",
    "    \"\"\"\n",
    "    Returns set of all possible actions (i, j) available on the board.\n",
    "    \"\"\"\n",
    "    poss_moves = []\n",
    "    i = 0\n",
    "    for row in board:\n",
    "        j = 0\n",
    "        for cell in row:\n",
    "            if cell != \"X\" and cell != \"O\":\n",
    "                poss_moves.append((i, j))\n",
    "            j += 1\n",
    "        i += 1\n",
    "    return poss_moves\n",
    "    raise NotImplementedError"
   ]
  },
  {
   "cell_type": "code",
   "execution_count": 116,
   "id": "9c957220",
   "metadata": {},
   "outputs": [
    {
     "name": "stdout",
     "output_type": "stream",
     "text": [
      "[(0, 0), (0, 1), (0, 2), (1, 0), (1, 1), (1, 2), (2, 0), (2, 1), (2, 2)]\n",
      "[(0, 1), (0, 2), (1, 0), (1, 2), (2, 1)]\n",
      "[(0, 1), (1, 0), (1, 2), (2, 1)]\n"
     ]
    }
   ],
   "source": [
    "print(actions(test_board1))\n",
    "print(actions(test_board2))\n",
    "print(actions(test_board3))"
   ]
  },
  {
   "cell_type": "markdown",
   "id": "76df5af6",
   "metadata": {},
   "source": [
    "The `result` function takes a `board` and an `action` as input, and should return a new board state, without modifying the original board.\n",
    "- If `action` is not a valid action for the board, your program should raise an exception.\n",
    "- The returned board state should be the board that would result from taking the original input board, and letting the player whose turn it is make their move at the cell indicated by the input action.\n",
    "- Importantly, the original board should be left unmodified: since Minimax will ultimately require considering many different board states during its computation. This means that simply updating a cell in `board` itself is not a correct implementation of the `result` function. You’ll likely want to make a deep copy of the board first before making any changes."
   ]
  },
  {
   "cell_type": "code",
   "execution_count": 202,
   "id": "ed0af7d4",
   "metadata": {},
   "outputs": [],
   "source": [
    "# import copy\n",
    "# #copy.deepcopy?\n",
    "# x = [[1, 2], [3, 5], [4, 6]]\n",
    "# y = copy.deepcopy(x)\n",
    "# print(y, x)\n",
    "# y[0][0], y[1][0], y[2][0] = \"a\", \"b\", \"c\"\n",
    "# print(y, x)"
   ]
  },
  {
   "cell_type": "code",
   "execution_count": 203,
   "id": "bbc358dc",
   "metadata": {},
   "outputs": [],
   "source": [
    "# test_board3 = [[\"X\", EMPTY, \"X\"],\n",
    "#                 [EMPTY, \"O\", EMPTY],\n",
    "#                 [\"X\", EMPTY, \"O\"]]\n",
    "# test_board4 = copy.deepcopy(test_board3)\n",
    "# test_board4[0][1] = \"O\"\n",
    "# test_board5 = copy.deepcopy(test_board4)\n",
    "# test_board5[1][0] = \"X\"\n",
    "# test_board6 = copy.deepcopy(test_board5)\n",
    "# test_board6[1][2] = \"O\"\n",
    "# test_board7 = copy.deepcopy(test_board6)\n",
    "# test_board7[2][1] = \"X\"\n",
    "\n",
    "# print(*test_board3, sep=\"\\n\")\n",
    "# print()\n",
    "# print(*test_board4, sep=\"\\n\")\n",
    "# print()\n",
    "# print(*test_board5, sep=\"\\n\")\n",
    "# print()\n",
    "# print(*test_board6, sep=\"\\n\")\n",
    "# print()\n",
    "# print(*test_board7, sep=\"\\n\")"
   ]
  },
  {
   "cell_type": "code",
   "execution_count": 204,
   "id": "7b8cdc96",
   "metadata": {},
   "outputs": [],
   "source": [
    "# action = (0, 1)\n",
    "# if action in actions(test_board2):\n",
    "#     print(True)\n",
    "# else:\n",
    "#     raise Exception(f\"Sorry, move {action} is not a valid move\")"
   ]
  },
  {
   "cell_type": "code",
   "execution_count": 205,
   "id": "389d6e56",
   "metadata": {},
   "outputs": [],
   "source": [
    "# print(*test_board2, sep=\"\\n\")\n",
    "# new_test_board = copy.deepcopy(test_board2)\n",
    "# i, j = action\n",
    "# print(i, j)\n",
    "# new_test_board[i][j] = \"X\"\n",
    "# print(*new_test_board, sep=\"\\n\")"
   ]
  },
  {
   "cell_type": "code",
   "execution_count": 117,
   "id": "79af5b2b",
   "metadata": {},
   "outputs": [],
   "source": [
    "def result(board, action):\n",
    "    \"\"\"\n",
    "    Returns the board that results from making move (i, j) on the board.\n",
    "    \"\"\"\n",
    "    if action in actions(board):\n",
    "        new_board = deepcopy(board)\n",
    "        i, j = action\n",
    "        new_board[i][j] = player(board)\n",
    "    else:\n",
    "        raise Exception(f\"Sorry, move {action} is not a valid move\")\n",
    "    return new_board\n",
    "    raise NotImplementedError"
   ]
  },
  {
   "cell_type": "code",
   "execution_count": null,
   "id": "15bafe1b",
   "metadata": {},
   "outputs": [],
   "source": [
    "# print(*test_board2, sep=\"\\n\")\n",
    "# print()\n",
    "# test_action1 = (0, 1)\n",
    "# print(*result(test_board2, test_action1), sep=\"\\n\")\n",
    "# print()\n",
    "# print(*test_board3, sep=\"\\n\")\n",
    "# print()\n",
    "# print(*result(test_board3, test_action1), sep=\"\\n\")\n",
    "# print()\n",
    "# test_action2 = (0, 0)\n",
    "# print(*result(test_board3, test_action2), sep=\"\\n\")"
   ]
  },
  {
   "cell_type": "markdown",
   "id": "27b9a411",
   "metadata": {},
   "source": [
    "The `winner` function should accept a `board` as input, and return the winner of the board if there is one.\n",
    "- If the X player has won the game, your function should return `X`. If the O player has won the game, your function should return `O`.\n",
    "- One can win the game with three of their moves in a row horizontally, vertically, or diagonally.\n",
    "- You may assume that there will be at most one winner (that is, no board will ever have both players with three-in-a-row, since that would be an invalid board state).\n",
    "- If there is no winner of the game (either because the game is in progress, or because it ended in a tie), the function should return `None`."
   ]
  },
  {
   "cell_type": "code",
   "execution_count": 118,
   "id": "8e5cdc9b",
   "metadata": {},
   "outputs": [],
   "source": [
    "test_board8 = [[EMPTY, EMPTY, EMPTY],\n",
    "                [EMPTY, \"O\", \"O\"],\n",
    "                [\"X\", \"X\", \"X\"]]\n",
    "\n",
    "test_board9 = [[EMPTY, EMPTY, \"X\"],\n",
    "                [EMPTY, \"X\", \"X\"],\n",
    "                [\"O\", \"O\", \"O\"]]\n",
    "\n",
    "test_board10 = [[EMPTY, EMPTY, \"X\"],\n",
    "                [EMPTY, \"O\", \"X\"],\n",
    "                [EMPTY, \"O\", \"X\"]]\n",
    "\n",
    "test_board11 = [[EMPTY, EMPTY, \"O\"],\n",
    "                [EMPTY, \"X\", \"O\"],\n",
    "                [\"X\", \"X\", \"O\"]]\n",
    "\n",
    "test_board12 = [[\"X\", EMPTY, EMPTY],\n",
    "                [EMPTY, \"X\", \"O\"],\n",
    "                [EMPTY, \"O\", \"X\"]]\n",
    "\n",
    "test_board13 = [[\"O\", EMPTY, EMPTY],\n",
    "                [EMPTY, \"O\", \"X\"],\n",
    "                [\"X\", \"X\", \"O\"]]\n",
    "\n",
    "test_board14 = [[EMPTY, EMPTY, \"X\"],\n",
    "                [EMPTY, \"X\", \"O\"],\n",
    "                [\"X\", \"O\", EMPTY]]\n",
    "\n",
    "test_board15 = [[EMPTY, EMPTY, \"O\"],\n",
    "                [EMPTY, \"O\", \"X\"],\n",
    "                [\"O\", \"X\", \"X\"]]\n",
    "\n",
    "test_board16 = [[EMPTY, EMPTY, \"O\"],\n",
    "                [EMPTY, EMPTY, \"X\"],\n",
    "                [\"O\", \"X\", \"X\"]]\n",
    "\n",
    "test_board_list = [test_board8, test_board9, test_board10, test_board11, \n",
    "                    test_board12, test_board13, test_board14, test_board15, \n",
    "                    test_board16]\n",
    "\n",
    "\n",
    "# for test_board in test_board_list:\n",
    "#     winner3 = None\n",
    "#     for row in test_board:\n",
    "#         if row.count(\"X\") == 3:\n",
    "#             winner3 = \"X\"\n",
    "#         elif row.count(\"O\") == 3:\n",
    "#             winner3 = \"O\"\n",
    "\n",
    "#     test_board_transpose = []\n",
    "#     for col in range(3):\n",
    "#         j_to_i = []\n",
    "#         for row in range(3):\n",
    "#             j_to_i.append(test_board[row][col])\n",
    "#         test_board_transpose.append(j_to_i)\n",
    "\n",
    "#     for row in test_board_transpose:\n",
    "#         if row.count(\"X\") == 3:\n",
    "#             winner3 = \"X\"\n",
    "#         elif row.count(\"O\") == 3:\n",
    "#             winner3 = \"O\"\n",
    "\n",
    "#     test_board_diag1 = []\n",
    "#     for cell in range(3):\n",
    "#         test_board_diag1.append(test_board[cell][cell])\n",
    "#     if test_board_diag1.count(\"X\") == 3:\n",
    "#         winner3 = \"X\"\n",
    "#     elif test_board_diag1.count(\"O\") == 3:\n",
    "#         winner3 = \"O\"\n",
    "\n",
    "#     test_board_reverse = []\n",
    "#     for row in test_board:\n",
    "#         row_reverse = row[::-1]\n",
    "#         test_board_reverse.append(row_reverse)\n",
    "\n",
    "#     test_board_diag2 = []\n",
    "#     for cell in range(3):\n",
    "#         test_board_diag2.append(test_board_reverse[cell][cell])\n",
    "#     if test_board_diag2.count(\"X\") == 3:\n",
    "#         winner3 = \"X\"\n",
    "#     elif test_board_diag2.count(\"O\") == 3:\n",
    "#         winner3 = \"O\"\n",
    "    \n",
    "#     if winner3 not in [\"X\", \"O\"]:\n",
    "#         winner3 = None\n",
    "\n",
    "#     print(winner3)"
   ]
  },
  {
   "cell_type": "code",
   "execution_count": 119,
   "id": "f5d1f10c",
   "metadata": {},
   "outputs": [],
   "source": [
    "def winner(board):\n",
    "    \"\"\"\n",
    "    Returns the winner of the game, if there is one.\n",
    "    \"\"\"\n",
    "    winner = None\n",
    "    for row in board:\n",
    "        if row.count(\"X\") == 3:\n",
    "            winner = \"X\"\n",
    "        elif row.count(\"O\") == 3:\n",
    "            winner = \"O\"\n",
    "\n",
    "    board_transpose = []\n",
    "    for col in range(3):\n",
    "        j_to_i = []\n",
    "        for row in range(3):\n",
    "            j_to_i.append(board[row][col])\n",
    "        board_transpose.append(j_to_i)\n",
    "\n",
    "    for row in board_transpose:\n",
    "        if row.count(\"X\") == 3:\n",
    "            winner = \"X\"\n",
    "        elif row.count(\"O\") == 3:\n",
    "            winner = \"O\"\n",
    "\n",
    "    board_diag1 = []\n",
    "    for cell in range(3):\n",
    "        board_diag1.append(board[cell][cell])\n",
    "    if board_diag1.count(\"X\") == 3:\n",
    "        winner = \"X\"\n",
    "    elif board_diag1.count(\"O\") == 3:\n",
    "        winner = \"O\"\n",
    "\n",
    "    board_reverse = []\n",
    "    for row in board:\n",
    "        row_reverse = row[::-1]\n",
    "        board_reverse.append(row_reverse)\n",
    "\n",
    "    board_diag2 = []\n",
    "    for cell in range(3):\n",
    "        board_diag2.append(board_reverse[cell][cell])\n",
    "    if board_diag2.count(\"X\") == 3:\n",
    "        winner = \"X\"\n",
    "    elif board_diag2.count(\"O\") == 3:\n",
    "        winner = \"O\"\n",
    "    \n",
    "    if winner not in [\"X\", \"O\"]:\n",
    "        winner = None\n",
    "\n",
    "    return winner\n",
    "    raise NotImplementedError"
   ]
  },
  {
   "cell_type": "code",
   "execution_count": 120,
   "id": "fd6c088c",
   "metadata": {},
   "outputs": [
    {
     "name": "stdout",
     "output_type": "stream",
     "text": [
      "X, O, X, O, X, O, X, O, None, "
     ]
    }
   ],
   "source": [
    "\n",
    "for test_board in test_board_list:\n",
    "    print(winner(test_board), end=\", \")"
   ]
  },
  {
   "cell_type": "markdown",
   "id": "11e44c15",
   "metadata": {},
   "source": [
    "The `terminal` function should accept a `board` as input, and return a boolean value indicating whether the game is over.\n",
    "- If the game is over, either because someone has won the game or because all cells have been filled without anyone winning, the function should return `True`.\n",
    "- Otherwise, the function should return `False` if the game is still in progress."
   ]
  },
  {
   "cell_type": "code",
   "execution_count": 121,
   "id": "f839a20a",
   "metadata": {},
   "outputs": [
    {
     "name": "stdout",
     "output_type": "stream",
     "text": [
      "[None, None, None, None, 'O', 'O', 'X', 'X', 'X']\n",
      "False\n",
      "['O', 'X', 'O', 'X', 'X', 'O', 'X', 'O', 'X']\n",
      "True\n"
     ]
    }
   ],
   "source": [
    "\n",
    "test_board17 = [[EMPTY, EMPTY, EMPTY],\n",
    "                [EMPTY, \"O\", \"O\"],\n",
    "                [\"X\", \"X\", \"X\"]]\n",
    "\n",
    "test_board18 = [[\"O\", \"X\", \"O\"],\n",
    "                [\"X\", \"X\", \"O\"],\n",
    "                [\"X\", \"O\", \"X\"]]\n",
    "\n",
    "test_board19 = [[\"O\", EMPTY, \"O\"],\n",
    "                [\"X\", \"X\", \"O\"],\n",
    "                [\"X\", \"O\", \"X\"]]\n",
    "\n",
    "flatten_test_board17 = [x for y in test_board17 for x in y]\n",
    "print(flatten_test_board17)\n",
    "\n",
    "if None not in flatten_test_board17:\n",
    "    print(True)\n",
    "else:\n",
    "    print(False)\n",
    "\n",
    "flatten_test_board18 = [x for y in test_board18 for x in y]\n",
    "print(flatten_test_board18)\n",
    "\n",
    "if None not in flatten_test_board18:\n",
    "    print(True)\n",
    "else:\n",
    "    print(False)\n",
    "  "
   ]
  },
  {
   "cell_type": "code",
   "execution_count": 124,
   "id": "66296000",
   "metadata": {},
   "outputs": [],
   "source": [
    "def terminal(board):\n",
    "    \"\"\"\n",
    "    Returns True if game is over, False otherwise.\n",
    "    \"\"\"\n",
    "    if (winner(board) != None) or (None not in [cell for row in board for cell in row]):\n",
    "        return True\n",
    "    else:\n",
    "        return False\n",
    "    raise NotImplementedError"
   ]
  },
  {
   "cell_type": "code",
   "execution_count": 125,
   "id": "7a26113a",
   "metadata": {},
   "outputs": [
    {
     "name": "stdout",
     "output_type": "stream",
     "text": [
      "True\n",
      "True\n",
      "False\n"
     ]
    }
   ],
   "source": [
    "print(terminal(test_board17))\n",
    "print(terminal(test_board18))\n",
    "print(terminal(test_board19))"
   ]
  },
  {
   "cell_type": "markdown",
   "id": "d459f615",
   "metadata": {},
   "source": [
    "The `utility` function should accept a terminal board as input and output the utility of the board.\n",
    "- If X has won the game, the utility is `1`. If O has won the game, the utility is `-1`. If the game has ended in a tie, the utility is `0`.\n",
    "- You may assume `utility` will only be called on a `board` if `terminal(board)` is `True`."
   ]
  },
  {
   "cell_type": "code",
   "execution_count": 126,
   "id": "c38c0d23",
   "metadata": {},
   "outputs": [],
   "source": [
    "def utility(board):\n",
    "    \"\"\"\n",
    "    Returns 1 if X has won the game, -1 if O has won, 0 otherwise.\n",
    "    \"\"\"\n",
    "    if winner(board) == \"X\":\n",
    "        return 1\n",
    "    elif winner(board) == \"O\":\n",
    "        return -1\n",
    "    else:\n",
    "        return 0\n",
    "        \n",
    "    raise NotImplementedError"
   ]
  },
  {
   "cell_type": "code",
   "execution_count": 127,
   "id": "825e7681",
   "metadata": {},
   "outputs": [
    {
     "name": "stdout",
     "output_type": "stream",
     "text": [
      "1\n",
      "-1\n",
      "0\n"
     ]
    }
   ],
   "source": [
    "test_board8 = [[EMPTY, EMPTY, EMPTY],\n",
    "                [EMPTY, \"O\", \"O\"],\n",
    "                [\"X\", \"X\", \"X\"]]\n",
    "\n",
    "test_board9 = [[EMPTY, EMPTY, \"X\"],\n",
    "                [EMPTY, \"X\", \"X\"],\n",
    "                [\"O\", \"O\", \"O\"]]\n",
    "\n",
    "test_board18 = [[\"O\", \"X\", \"O\"],\n",
    "                [\"X\", \"X\", \"O\"],\n",
    "                [\"X\", \"O\", \"X\"]]\n",
    "\n",
    "print(utility(test_board8))\n",
    "print(utility(test_board9))\n",
    "print(utility(test_board18))"
   ]
  },
  {
   "cell_type": "markdown",
   "id": "d9d83aab",
   "metadata": {},
   "source": [
    "The `minimax` function should take a `board` as input, and return the optimal move for the player to move on that board.\n",
    "- The move returned should be the optimal action `(i, j)` that is one of the allowable actions on the board. If multiple moves are equally optimal, any of those moves is acceptable.\n",
    "- If the `board` is a terminal board, the `minimax` function should return `None`."
   ]
  },
  {
   "cell_type": "code",
   "execution_count": 128,
   "id": "1dd2344a",
   "metadata": {},
   "outputs": [],
   "source": [
    "\n",
    "def max_value(board):\n",
    "    v = -float(\"inf\")\n",
    "\n",
    "    if terminal(board):\n",
    "        return utility(board)\n",
    "\n",
    "    for action in actions(board):\n",
    "        v = max(v, min_value(result(board, action)))\n",
    "    \n",
    "    return v"
   ]
  },
  {
   "cell_type": "code",
   "execution_count": 129,
   "id": "373739c3",
   "metadata": {},
   "outputs": [],
   "source": [
    "def min_value(board):\n",
    "    v = float(\"inf\")\n",
    "\n",
    "    if terminal(board):\n",
    "        return utility(board)\n",
    "\n",
    "    for action in actions(board):\n",
    "        v = min(v, max_value(result(board, action)))\n",
    "    \n",
    "    return v"
   ]
  },
  {
   "cell_type": "code",
   "execution_count": 133,
   "id": "b42c8855",
   "metadata": {},
   "outputs": [],
   "source": [
    "def minimax(board):\n",
    "    \"\"\"\n",
    "    Returns the optimal action for the current player on the board.\n",
    "    \"\"\"\n",
    "    if player(board) == \"X\":\n",
    "        \n",
    "        best_v = -float(\"inf\")\n",
    "        best_action = None\n",
    "        \n",
    "        for action in actions(board):\n",
    "            v = min_value(result(board, action))\n",
    "            if v > best_v:\n",
    "                best_v = v\n",
    "                best_action = action\n",
    "        return best_action\n",
    "\n",
    "    if player(board) == \"O\":\n",
    "        \n",
    "        best_v = float(\"inf\")\n",
    "        best_action = None\n",
    "        \n",
    "        for action in actions(board):\n",
    "            v = max_value(result(board, action))\n",
    "            if v < best_v:\n",
    "                best_v = v\n",
    "                best_action = action\n",
    "        return best_action\n",
    "\n",
    "    raise NotImplementedError"
   ]
  },
  {
   "cell_type": "code",
   "execution_count": 134,
   "id": "38a21326",
   "metadata": {},
   "outputs": [
    {
     "name": "stdout",
     "output_type": "stream",
     "text": [
      "(2, 1)\n",
      "(2, 1)\n"
     ]
    }
   ],
   "source": [
    "test_board21 = [[EMPTY, \"X\", \"O\"],\n",
    "                [\"O\", \"X\", EMPTY],\n",
    "                [\"X\", EMPTY, \"O\"]]\n",
    "\n",
    "test_board22 = [[EMPTY, \"X\", \"O\"],\n",
    "                [\"O\", \"X\", \"X\"],\n",
    "                [\"X\", EMPTY, \"O\"]]\n",
    "\n",
    "\n",
    "print(minimax(test_board21))\n",
    "print(minimax(test_board22))"
   ]
  },
  {
   "cell_type": "markdown",
   "id": "98c1d404",
   "metadata": {},
   "source": [
    "For all functions that accept a `board` as input, you may assume that it is a valid board (namely, that it is a list that contains three rows, each with three values of either `X`, `O`, or `EMPTY`). You should not modify the function declarations (the order or number of arguments to each function) provided.\n",
    "\n",
    "Once all functions are implemented correctly, you should be able to run `python runner.py` and play against your AI. And, since Tic-Tac-Toe is a tie given optimal play by both sides, you should never be able to beat the AI (though if you don’t play optimally as well, it may beat you!)"
   ]
  },
  {
   "cell_type": "markdown",
   "id": "5dc2ccc7",
   "metadata": {},
   "source": [
    "# Hints\n",
    "- If you’d like to test your functions in a different Python file, you can import them with lines like `from tictactoe import initial_state`.\n",
    "- You’re welcome to add additional helper functions to `tictactoe.py`, provided that their names do not collide with function or variable names already in the module.\n",
    "- Alpha-beta pruning is optional, but may make your AI run more efficiently!"
   ]
  },
  {
   "cell_type": "markdown",
   "id": "f69fea80",
   "metadata": {},
   "source": [
    "# How to Submit\n",
    "\n",
    "1. Visit this link, log in with your GitHub account, and click Authorize cs50. Then, check the box indicating that you’d like to grant course staff access to your submissions, and click Join course.\n",
    "2. Install Git and, optionally, install submit50.\n",
    "3. If you’ve installed submit50, execute\n",
    "\n",
    "    `submit50 ai50/projects/2020/x/tictactoe`\n",
    "\n",
    "    Otherwise, using Git, push your work to https://github.com/me50/USERNAME.git, where `USERNAME` is your GitHub username, on a branch called `ai50/projects/2020/x/tictactoe`.\n",
    "\n",
    "4. Submit this form. https://forms.cs50.io/3d07f643-c1b0-4be5-9663-493fd6875c41\n",
    "\n",
    "You can then go to https://cs50.me/cs50ai to view your current progress!"
   ]
  },
  {
   "cell_type": "code",
   "execution_count": null,
   "id": "7ed52942",
   "metadata": {},
   "outputs": [],
   "source": []
  }
 ],
 "metadata": {
  "kernelspec": {
   "display_name": "Python 3.10.4 64-bit",
   "language": "python",
   "name": "python3"
  },
  "language_info": {
   "codemirror_mode": {
    "name": "ipython",
    "version": 3
   },
   "file_extension": ".py",
   "mimetype": "text/x-python",
   "name": "python",
   "nbconvert_exporter": "python",
   "pygments_lexer": "ipython3",
   "version": "3.10.4"
  },
  "toc": {
   "base_numbering": 1,
   "nav_menu": {},
   "number_sections": true,
   "sideBar": true,
   "skip_h1_title": false,
   "title_cell": "Table of Contents",
   "title_sidebar": "Contents",
   "toc_cell": true,
   "toc_position": {},
   "toc_section_display": true,
   "toc_window_display": false
  },
  "vscode": {
   "interpreter": {
    "hash": "b436b121d6030e98909f75ceab41165d13ba55a3b97d1a3afabfa64e4846fce0"
   }
  }
 },
 "nbformat": 4,
 "nbformat_minor": 5
}
