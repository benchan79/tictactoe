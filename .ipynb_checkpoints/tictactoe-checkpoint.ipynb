{
 "cells": [
  {
   "cell_type": "markdown",
   "id": "e93ca8f9",
   "metadata": {
    "toc": true
   },
   "source": [
    "<h1>Table of Contents<span class=\"tocSkip\"></span></h1>\n",
    "<div class=\"toc\"><ul class=\"toc-item\"><li><span><a href=\"#Getting-Started\" data-toc-modified-id=\"Getting-Started-1\"><span class=\"toc-item-num\">1&nbsp;&nbsp;</span>Getting Started</a></span></li><li><span><a href=\"#Understanding\" data-toc-modified-id=\"Understanding-2\"><span class=\"toc-item-num\">2&nbsp;&nbsp;</span>Understanding</a></span></li><li><span><a href=\"#Specification\" data-toc-modified-id=\"Specification-3\"><span class=\"toc-item-num\">3&nbsp;&nbsp;</span>Specification</a></span></li><li><span><a href=\"#Hints\" data-toc-modified-id=\"Hints-4\"><span class=\"toc-item-num\">4&nbsp;&nbsp;</span>Hints</a></span></li><li><span><a href=\"#How-to-Submit\" data-toc-modified-id=\"How-to-Submit-5\"><span class=\"toc-item-num\">5&nbsp;&nbsp;</span>How to Submit</a></span></li></ul></div>"
   ]
  },
  {
   "cell_type": "markdown",
   "id": "a30a75c3",
   "metadata": {},
   "source": [
    "# Getting Started\n",
    "- Download the distribution code from https://cdn.cs50.net/ai/2020/x/projects/0/tictactoe.zip and unzip it.\n",
    "- Once in the directory for the project, run `pip3 install -r requirements.txt` to install the required Python package (`pygame`) for this project."
   ]
  },
  {
   "cell_type": "markdown",
   "id": "868ceaed",
   "metadata": {},
   "source": [
    "# Understanding\n",
    "There are two main files in this project: `runner.py` and `tictactoe.py`. `tictactoe.py` contains all of the logic for playing the game, and for making optimal moves. `runner.py` has been implemented for you, and contains all of the code to run the graphical interface for the game. Once you’ve completed all the required functions in `tictactoe.py`, you should be able to run `python runner.py` to play against your AI!\n",
    "\n",
    "Let’s open up `tictactoe.py` to get an understanding for what’s provided. First, we define three variables: `X`, `O`, and `EMPTY`, to represent possible moves of the board.\n",
    "\n",
    "The function `initial_state` returns the starting state of the board. For this problem, we’ve chosen to represent the board as a list of three lists (representing the three rows of the board), where each internal list contains three values that are either `X`, `O`, or `EMPTY`. What follows are functions that we’ve left up to you to implement!"
   ]
  },
  {
   "cell_type": "markdown",
   "id": "26a713ff",
   "metadata": {},
   "source": [
    "# Specification\n",
    "Complete the implementations of `player`, `actions`, `result`, `winner`, `terminal`, `utility`, and `minimax`."
   ]
  },
  {
   "cell_type": "code",
   "execution_count": 193,
   "id": "80581b36",
   "metadata": {},
   "outputs": [],
   "source": [
    "\"\"\"\n",
    "Tic Tac Toe Player\n",
    "\"\"\"\n",
    "\n",
    "import math\n",
    "from copy import deepcopy"
   ]
  },
  {
   "cell_type": "code",
   "execution_count": 194,
   "id": "e1c33945",
   "metadata": {},
   "outputs": [],
   "source": [
    "X = \"X\"\n",
    "O = \"O\"\n",
    "EMPTY = None"
   ]
  },
  {
   "cell_type": "code",
   "execution_count": 195,
   "id": "07a4c527",
   "metadata": {},
   "outputs": [],
   "source": [
    "def initial_state():\n",
    "    \"\"\"\n",
    "    Returns starting state of the board.\n",
    "    \"\"\"\n",
    "    return [[EMPTY, EMPTY, EMPTY],\n",
    "            [EMPTY, EMPTY, EMPTY],\n",
    "            [EMPTY, EMPTY, EMPTY]]"
   ]
  },
  {
   "cell_type": "markdown",
   "id": "3dcdc7e8",
   "metadata": {},
   "source": [
    "The `player` function should take a `board` state as input, and return which player’s turn it is (either `X` or `O`).\n",
    "- In the initial game state, `X` gets the first move. Subsequently, the player alternates with each additional move.\n",
    "- Any return value is acceptable if a terminal board is provided as input (i.e., the game is already over)."
   ]
  },
  {
   "cell_type": "code",
   "execution_count": 196,
   "id": "fa03af76",
   "metadata": {},
   "outputs": [],
   "source": [
    "# board = initial_state()\n",
    "# print(*board, sep=\"\\n\")\n",
    "# row_num = 0\n",
    "# for row in board:\n",
    "#     row_num += 1    \n",
    "#     print(f\"Number of EMPTY in Row{row_num}: {row.count(None)}\")\n",
    "# print()\n",
    "test_board1 = initial_state()\n",
    "\n",
    "test_board2 = [[\"X\", EMPTY, EMPTY],\n",
    "                [EMPTY, \"O\", EMPTY],\n",
    "                [\"X\", EMPTY, \"O\"]]\n",
    "\n",
    "test_board3 = [[\"X\", EMPTY, \"X\"],\n",
    "                [EMPTY, \"O\", EMPTY],\n",
    "                [\"X\", EMPTY, \"O\"]]\n",
    "\n",
    "# test_board = initial_state()\n",
    "# print(*test_board, sep=\"\\n\")\n",
    "# count_x = 0\n",
    "# count_o = 0\n",
    "# for row in test_board:\n",
    "#     print(row.count(\"X\"), row.count(\"O\"), row.count(None))\n",
    "#     count_x += row.count(\"X\")\n",
    "#     count_o += row.count(\"O\")\n",
    "# print()\n",
    "# print(count_x, count_o)\n",
    "# if count_x == count_o:\n",
    "#     player = \"player_x\"\n",
    "# else:\n",
    "#     player = \"player_o\"\n",
    "# print(player)"
   ]
  },
  {
   "cell_type": "code",
   "execution_count": 197,
   "id": "fe50e427",
   "metadata": {},
   "outputs": [],
   "source": [
    "def player(board):\n",
    "    \"\"\"\n",
    "    Returns player who has the next turn on a board.\n",
    "    \"\"\"\n",
    "    count_x = 0\n",
    "    count_o = 0\n",
    "    for row in board:\n",
    "        count_x += row.count(\"X\")\n",
    "        count_o += row.count(\"O\")\n",
    "    if count_x == count_o:\n",
    "        player = \"X\"\n",
    "    else:\n",
    "        player = \"O\"\n",
    "    return player\n",
    "    raise NotImplementedError"
   ]
  },
  {
   "cell_type": "code",
   "execution_count": 198,
   "id": "ef82adb7",
   "metadata": {},
   "outputs": [
    {
     "name": "stdout",
     "output_type": "stream",
     "text": [
      "X\n",
      "X\n",
      "O\n"
     ]
    }
   ],
   "source": [
    "print(player(test_board1))\n",
    "print(player(test_board2))\n",
    "print(player(test_board3))"
   ]
  },
  {
   "cell_type": "markdown",
   "id": "4cb583f0",
   "metadata": {},
   "source": [
    "The `actions` function should return a `set` of all of the possible actions that can be taken on a given board.\n",
    "- Each action should be represented as a tuple `(i, j)` where `i` corresponds to the row of the move (`0`, `1`, or `2`) and `j` corresponds to which cell in the row corresponds to the move (also `0`, `1`, or `2`).\n",
    "- Possible moves are any cells on the board that do not already have an `X` or an `O` in them.\n",
    "- Any return value is acceptable if a terminal board is provided as input."
   ]
  },
  {
   "cell_type": "code",
   "execution_count": 199,
   "id": "268be968",
   "metadata": {},
   "outputs": [],
   "source": [
    "# poss_moves = []\n",
    "# i = 0\n",
    "# for row in test_board3:\n",
    "#     j = 0\n",
    "#     for cell in row:\n",
    "#         if cell != \"X\" and cell != \"O\":\n",
    "#             poss_moves.append((i, j))\n",
    "#         j += 1\n",
    "#     i += 1\n",
    "# print(*test_board3, sep=\"\\n\")        \n",
    "# print(poss_moves)"
   ]
  },
  {
   "cell_type": "code",
   "execution_count": 200,
   "id": "8d5712b2",
   "metadata": {},
   "outputs": [],
   "source": [
    "def actions(board):\n",
    "    \"\"\"\n",
    "    Returns set of all possible actions (i, j) available on the board.\n",
    "    \"\"\"\n",
    "    poss_moves = []\n",
    "    i = 0\n",
    "    for row in board:\n",
    "        j = 0\n",
    "        for cell in row:\n",
    "            if cell != \"X\" and cell != \"O\":\n",
    "                poss_moves.append((i, j))\n",
    "            j += 1\n",
    "        i += 1\n",
    "    return poss_moves\n",
    "    raise NotImplementedError"
   ]
  },
  {
   "cell_type": "code",
   "execution_count": 201,
   "id": "9c957220",
   "metadata": {},
   "outputs": [
    {
     "name": "stdout",
     "output_type": "stream",
     "text": [
      "[(0, 0), (0, 1), (0, 2), (1, 0), (1, 1), (1, 2), (2, 0), (2, 1), (2, 2)]\n",
      "[(0, 1), (0, 2), (1, 0), (1, 2), (2, 1)]\n",
      "[(0, 1), (1, 0), (1, 2), (2, 1)]\n"
     ]
    }
   ],
   "source": [
    "print(actions(test_board1))\n",
    "print(actions(test_board2))\n",
    "print(actions(test_board3))"
   ]
  },
  {
   "cell_type": "markdown",
   "id": "76df5af6",
   "metadata": {},
   "source": [
    "The `result` function takes a `board` and an `action` as input, and should return a new board state, without modifying the original board.\n",
    "- If `action` is not a valid action for the board, your program should raise an exception.\n",
    "- The returned board state should be the board that would result from taking the original input board, and letting the player whose turn it is make their move at the cell indicated by the input action.\n",
    "- Importantly, the original board should be left unmodified: since Minimax will ultimately require considering many different board states during its computation. This means that simply updating a cell in `board` itself is not a correct implementation of the `result` function. You’ll likely want to make a deep copy of the board first before making any changes."
   ]
  },
  {
   "cell_type": "code",
   "execution_count": 202,
   "id": "ed0af7d4",
   "metadata": {},
   "outputs": [],
   "source": [
    "# import copy\n",
    "# #copy.deepcopy?\n",
    "# x = [[1, 2], [3, 5], [4, 6]]\n",
    "# y = copy.deepcopy(x)\n",
    "# print(y, x)\n",
    "# y[0][0], y[1][0], y[2][0] = \"a\", \"b\", \"c\"\n",
    "# print(y, x)"
   ]
  },
  {
   "cell_type": "code",
   "execution_count": 203,
   "id": "bbc358dc",
   "metadata": {},
   "outputs": [],
   "source": [
    "# test_board3 = [[\"X\", EMPTY, \"X\"],\n",
    "#                 [EMPTY, \"O\", EMPTY],\n",
    "#                 [\"X\", EMPTY, \"O\"]]\n",
    "# test_board4 = copy.deepcopy(test_board3)\n",
    "# test_board4[0][1] = \"O\"\n",
    "# test_board5 = copy.deepcopy(test_board4)\n",
    "# test_board5[1][0] = \"X\"\n",
    "# test_board6 = copy.deepcopy(test_board5)\n",
    "# test_board6[1][2] = \"O\"\n",
    "# test_board7 = copy.deepcopy(test_board6)\n",
    "# test_board7[2][1] = \"X\"\n",
    "\n",
    "# print(*test_board3, sep=\"\\n\")\n",
    "# print()\n",
    "# print(*test_board4, sep=\"\\n\")\n",
    "# print()\n",
    "# print(*test_board5, sep=\"\\n\")\n",
    "# print()\n",
    "# print(*test_board6, sep=\"\\n\")\n",
    "# print()\n",
    "# print(*test_board7, sep=\"\\n\")"
   ]
  },
  {
   "cell_type": "code",
   "execution_count": 204,
   "id": "7b8cdc96",
   "metadata": {},
   "outputs": [],
   "source": [
    "# action = (0, 1)\n",
    "# if action in actions(test_board2):\n",
    "#     print(True)\n",
    "# else:\n",
    "#     raise Exception(f\"Sorry, move {action} is not a valid move\")"
   ]
  },
  {
   "cell_type": "code",
   "execution_count": 205,
   "id": "389d6e56",
   "metadata": {},
   "outputs": [],
   "source": [
    "# print(*test_board2, sep=\"\\n\")\n",
    "# new_test_board = copy.deepcopy(test_board2)\n",
    "# i, j = action\n",
    "# print(i, j)\n",
    "# new_test_board[i][j] = \"X\"\n",
    "# print(*new_test_board, sep=\"\\n\")"
   ]
  },
  {
   "cell_type": "code",
   "execution_count": 206,
   "id": "79af5b2b",
   "metadata": {},
   "outputs": [],
   "source": [
    "def result(board, action):\n",
    "    \"\"\"\n",
    "    Returns the board that results from making move (i, j) on the board.\n",
    "    \"\"\"\n",
    "    if action in actions(board):\n",
    "        new_board = deepcopy(board)\n",
    "        i, j = action\n",
    "        new_board[i][j] = player(board)\n",
    "    else:\n",
    "        raise Exception(f\"Sorry, move {action} is not a valid move\")\n",
    "    return new_board\n",
    "    raise NotImplementedError"
   ]
  },
  {
   "cell_type": "code",
   "execution_count": null,
   "id": "15bafe1b",
   "metadata": {},
   "outputs": [],
   "source": [
    "# print(*test_board2, sep=\"\\n\")\n",
    "# print()\n",
    "# test_action1 = (0, 1)\n",
    "# print(*result(test_board2, test_action1), sep=\"\\n\")\n",
    "# print()\n",
    "# print(*test_board3, sep=\"\\n\")\n",
    "# print()\n",
    "# print(*result(test_board3, test_action1), sep=\"\\n\")\n",
    "# print()\n",
    "# test_action2 = (0, 0)\n",
    "# print(*result(test_board3, test_action2), sep=\"\\n\")"
   ]
  },
  {
   "cell_type": "markdown",
   "id": "27b9a411",
   "metadata": {},
   "source": [
    "The `winner` function should accept a `board` as input, and return the winner of the board if there is one.\n",
    "- If the X player has won the game, your function should return `X`. If the O player has won the game, your function should return `O`.\n",
    "- One can win the game with three of their moves in a row horizontally, vertically, or diagonally.\n",
    "- You may assume that there will be at most one winner (that is, no board will ever have both players with three-in-a-row, since that would be an invalid board state).\n",
    "- If there is no winner of the game (either because the game is in progress, or because it ended in a tie), the function should return `None`."
   ]
  },
  {
   "cell_type": "code",
   "execution_count": 222,
   "id": "8e5cdc9b",
   "metadata": {},
   "outputs": [
    {
     "name": "stdout",
     "output_type": "stream",
     "text": [
      "[None, None, 'X']\n",
      "[None, 'O', 'X']\n",
      "[None, 'O', 'X']\n"
     ]
    }
   ],
   "source": [
    "test_board8 = [[EMPTY, EMPTY, EMPTY],\n",
    "                [EMPTY, \"O\", \"O\"],\n",
    "                [\"X\", \"X\", \"X\"]]\n",
    "\n",
    "test_board9 = [[EMPTY, EMPTY, \"X\"],\n",
    "                [EMPTY, \"X\", \"X\"],\n",
    "                [EMPTY, \"O\", \"O\"]]\n",
    "\n",
    "# for row in test_board8:\n",
    "#     if row.count(\"X\") == 3:\n",
    "#         winner3 = \"X\"\n",
    "#     elif row.count(\"O\") == 3:\n",
    "#         winner3 = \"O\"\n",
    "# print(winner3)   \n",
    "board_transpose = []\n",
    "for col in range(3):\n",
    "    j_to_i = []\n",
    "    for row in range(3):\n",
    "        j_to_i.append(test_board8[row][col])\n",
    "    board_transpose.append(j_to_i)\n",
    "        \n",
    "print(*board_transpose, sep=\"\\n\")"
   ]
  },
  {
   "cell_type": "code",
   "execution_count": 214,
   "id": "d3ea4657",
   "metadata": {},
   "outputs": [
    {
     "name": "stdout",
     "output_type": "stream",
     "text": [
      "None\n"
     ]
    }
   ],
   "source": [
    "\n",
    "x_list = []\n",
    "for row in test_board9:\n",
    "    for cell in row:\n",
    "        if cell == \"X\":\n",
    "            x_list.append()\n",
    " \n",
    "if test_board9[0].count(\"X\") == 3:\n",
    "    winner2 = \"X\"\n",
    "elif test_board9[0].count(\"O\") == 3:\n",
    "    winner2 = \"O\"\n",
    "elif row[0]\n",
    "    \n",
    "    else:\n",
    "        winner2 = None\n",
    "print(winner2)"
   ]
  },
  {
   "cell_type": "code",
   "execution_count": null,
   "id": "a424a181",
   "metadata": {},
   "outputs": [],
   "source": [
    "win_combo = [[(0,0), (0,1), (0,2)],\n",
    "            ]"
   ]
  },
  {
   "cell_type": "code",
   "execution_count": null,
   "id": "f5d1f10c",
   "metadata": {},
   "outputs": [],
   "source": [
    "def winner(board):\n",
    "    \"\"\"\n",
    "    Returns the winner of the game, if there is one.\n",
    "    \"\"\"\n",
    "    return winner\n",
    "    raise NotImplementedError"
   ]
  },
  {
   "cell_type": "markdown",
   "id": "11e44c15",
   "metadata": {},
   "source": [
    "The `terminal` function should accept a `board` as input, and return a boolean value indicating whether the game is over.\n",
    "- If the game is over, either because someone has won the game or because all cells have been filled without anyone winning, the function should return `True`.\n",
    "- Otherwise, the function should return `False` if the game is still in progress."
   ]
  },
  {
   "cell_type": "code",
   "execution_count": null,
   "id": "66296000",
   "metadata": {},
   "outputs": [],
   "source": [
    "def terminal(board):\n",
    "    \"\"\"\n",
    "    Returns True if game is over, False otherwise.\n",
    "    \"\"\"\n",
    "    return game_state\n",
    "    raise NotImplementedError"
   ]
  },
  {
   "cell_type": "markdown",
   "id": "d459f615",
   "metadata": {},
   "source": [
    "The `utility` function should accept a terminal board as input and output the utility of the board.\n",
    "- If X has won the game, the utility is `1`. If O has won the game, the utility is `-1`. If the game has ended in a tie, the utility is `0`.\n",
    "- You may assume `utility` will only be called on a `board` if `terminal(board)` is `True`."
   ]
  },
  {
   "cell_type": "code",
   "execution_count": null,
   "id": "c38c0d23",
   "metadata": {},
   "outputs": [],
   "source": [
    "def utility(board):\n",
    "    \"\"\"\n",
    "    Returns 1 if X has won the game, -1 if O has won, 0 otherwise.\n",
    "    \"\"\"\n",
    "    return value\n",
    "    raise NotImplementedError"
   ]
  },
  {
   "cell_type": "markdown",
   "id": "d9d83aab",
   "metadata": {},
   "source": [
    "The `minimax` function should take a `board` as input, and return the optimal move for the player to move on that board.\n",
    "- The move returned should be the optimal action `(i, j)` that is one of the allowable actions on the board. If multiple moves are equally optimal, any of those moves is acceptable.\n",
    "- If the `board` is a terminal board, the `minimax` function should return `None`."
   ]
  },
  {
   "cell_type": "code",
   "execution_count": null,
   "id": "b42c8855",
   "metadata": {},
   "outputs": [],
   "source": [
    "def minimax(board):\n",
    "    \"\"\"\n",
    "    Returns the optimal action for the current player on the board.\n",
    "    \"\"\"\n",
    "\n",
    "    return action\n",
    "    raise NotImplementedError"
   ]
  },
  {
   "cell_type": "markdown",
   "id": "98c1d404",
   "metadata": {},
   "source": [
    "For all functions that accept a `board` as input, you may assume that it is a valid board (namely, that it is a list that contains three rows, each with three values of either `X`, `O`, or `EMPTY`). You should not modify the function declarations (the order or number of arguments to each function) provided.\n",
    "\n",
    "Once all functions are implemented correctly, you should be able to run `python runner.py` and play against your AI. And, since Tic-Tac-Toe is a tie given optimal play by both sides, you should never be able to beat the AI (though if you don’t play optimally as well, it may beat you!)"
   ]
  },
  {
   "cell_type": "markdown",
   "id": "5dc2ccc7",
   "metadata": {},
   "source": [
    "# Hints\n",
    "- If you’d like to test your functions in a different Python file, you can import them with lines like `from tictactoe import initial_state`.\n",
    "- You’re welcome to add additional helper functions to `tictactoe.py`, provided that their names do not collide with function or variable names already in the module.\n",
    "- Alpha-beta pruning is optional, but may make your AI run more efficiently!"
   ]
  },
  {
   "cell_type": "markdown",
   "id": "f69fea80",
   "metadata": {},
   "source": [
    "# How to Submit\n",
    "\n",
    "1. Visit this link, log in with your GitHub account, and click Authorize cs50. Then, check the box indicating that you’d like to grant course staff access to your submissions, and click Join course.\n",
    "2. Install Git and, optionally, install submit50.\n",
    "3. If you’ve installed submit50, execute\n",
    "\n",
    "    `submit50 ai50/projects/2020/x/tictactoe`\n",
    "\n",
    "    Otherwise, using Git, push your work to https://github.com/me50/USERNAME.git, where `USERNAME` is your GitHub username, on a branch called `ai50/projects/2020/x/tictactoe`.\n",
    "\n",
    "4. Submit this form. https://forms.cs50.io/3d07f643-c1b0-4be5-9663-493fd6875c41\n",
    "\n",
    "You can then go to https://cs50.me/cs50ai to view your current progress!"
   ]
  },
  {
   "cell_type": "code",
   "execution_count": null,
   "id": "7ed52942",
   "metadata": {},
   "outputs": [],
   "source": []
  }
 ],
 "metadata": {
  "kernelspec": {
   "display_name": "Python 3 (ipykernel)",
   "language": "python",
   "name": "python3"
  },
  "language_info": {
   "codemirror_mode": {
    "name": "ipython",
    "version": 3
   },
   "file_extension": ".py",
   "mimetype": "text/x-python",
   "name": "python",
   "nbconvert_exporter": "python",
   "pygments_lexer": "ipython3",
   "version": "3.9.12"
  },
  "toc": {
   "base_numbering": 1,
   "nav_menu": {},
   "number_sections": true,
   "sideBar": true,
   "skip_h1_title": false,
   "title_cell": "Table of Contents",
   "title_sidebar": "Contents",
   "toc_cell": true,
   "toc_position": {},
   "toc_section_display": true,
   "toc_window_display": false
  }
 },
 "nbformat": 4,
 "nbformat_minor": 5
}
